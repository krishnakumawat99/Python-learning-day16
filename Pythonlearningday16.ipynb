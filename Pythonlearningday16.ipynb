{
  "nbformat": 4,
  "nbformat_minor": 0,
  "metadata": {
    "colab": {
      "provenance": []
    },
    "kernelspec": {
      "name": "python3",
      "display_name": "Python 3"
    },
    "language_info": {
      "name": "python"
    }
  },
  "cells": [
    {
      "cell_type": "code",
      "execution_count": 2,
      "metadata": {
        "id": "sewEvlB491jt"
      },
      "outputs": [],
      "source": [
        "def employee(id, name, email):\n",
        "  print(f\"id:{id},name:{name},email:{email}\")"
      ]
    },
    {
      "cell_type": "code",
      "source": [
        "employee(21,\"krishna\",\"krishna@gmail.com\")"
      ],
      "metadata": {
        "colab": {
          "base_uri": "https://localhost:8080/"
        },
        "id": "noKfh7fRIgTL",
        "outputId": "c44cc650-fd99-40bc-f699-f03236ae1e2c"
      },
      "execution_count": 3,
      "outputs": [
        {
          "output_type": "stream",
          "name": "stdout",
          "text": [
            "id:21,name:krishna,email:krishna@gmail.com\n"
          ]
        }
      ]
    },
    {
      "cell_type": "code",
      "source": [
        "employee(\"krishna\",21,\"krishna@gmail.com\")"
      ],
      "metadata": {
        "colab": {
          "base_uri": "https://localhost:8080/"
        },
        "id": "B0CEYmVu7qSd",
        "outputId": "bf30e867-cc9f-4be6-b4c3-fde5c15b887c"
      },
      "execution_count": 4,
      "outputs": [
        {
          "output_type": "stream",
          "name": "stdout",
          "text": [
            "id:krishna,name:21,email:krishna@gmail.com\n"
          ]
        }
      ]
    },
    {
      "cell_type": "code",
      "source": [
        "def employee(id, name, email=\"krishna@gmail.com\"):\n",
        "  print(f\"id:{id},name:{name},email:{email}\")\n",
        "\n",
        "employee(name=\"krishna\",id=21,email=\"keshu@gmail.com\")"
      ],
      "metadata": {
        "colab": {
          "base_uri": "https://localhost:8080/"
        },
        "id": "-D98NY--I_55",
        "outputId": "2b77557f-8270-4dd8-b796-bd0265155082"
      },
      "execution_count": null,
      "outputs": [
        {
          "output_type": "stream",
          "name": "stdout",
          "text": [
            "id:21,name:krishna,email:keshu@gmail.com\n"
          ]
        }
      ]
    },
    {
      "cell_type": "code",
      "source": [
        "def employee(id, name, email=\"krishna@gmail.com\"):\n",
        "  print(f\"id:{id},name:{name},email:{email}\")\n",
        "\n",
        "employee(name=\"krishna\",id=21)"
      ],
      "metadata": {
        "colab": {
          "base_uri": "https://localhost:8080/"
        },
        "id": "0K49EUJZ73ky",
        "outputId": "0f342300-a138-4818-ead0-dc1eb93b67b3"
      },
      "execution_count": 5,
      "outputs": [
        {
          "output_type": "stream",
          "name": "stdout",
          "text": [
            "id:21,name:krishna,email:krishna@gmail.com\n"
          ]
        }
      ]
    },
    {
      "cell_type": "code",
      "source": [
        "def employee(id, name, email=\"krishna@gmail.com\"):\n",
        "  print(f\"id:{id},name:{name},email:{email}\")\n",
        "\n",
        "employee(name=\"krishna\",id=21,email=\"keshu@gmail.com\")"
      ],
      "metadata": {
        "colab": {
          "base_uri": "https://localhost:8080/"
        },
        "id": "5tALNW2f8G1B",
        "outputId": "7a9e1c56-c5e5-4855-9755-2896ecec06a0"
      },
      "execution_count": 6,
      "outputs": [
        {
          "output_type": "stream",
          "name": "stdout",
          "text": [
            "id:21,name:krishna,email:keshu@gmail.com\n"
          ]
        }
      ]
    },
    {
      "cell_type": "code",
      "source": [],
      "metadata": {
        "id": "AGiKI6Ug8L7q"
      },
      "execution_count": null,
      "outputs": []
    },
    {
      "cell_type": "code",
      "source": [
        "# variable length argument => *args\n",
        "def employee(*var):\n",
        "  print(var)\n",
        "employee()\n",
        "employee(10,20)\n",
        "employee(10,20,\"krishna\",\"krishna@gmail.com\")"
      ],
      "metadata": {
        "colab": {
          "base_uri": "https://localhost:8080/"
        },
        "id": "Eh69Kyj_J9Jv",
        "outputId": "1aa68bb8-5b45-4f89-ae0d-326d475b7c65"
      },
      "execution_count": null,
      "outputs": [
        {
          "output_type": "stream",
          "name": "stdout",
          "text": [
            "()\n",
            "(10, 20)\n",
            "(10, 20, 'krishna', 'krishna@gmail.com')\n"
          ]
        }
      ]
    },
    {
      "cell_type": "code",
      "source": [
        "def employee(*var):\n",
        "  print(var, type(var))\n",
        "employee()\n",
        "employee(10,20)\n",
        "employee(10,20,\"krishna\",\"krishna@gmail.com\")"
      ],
      "metadata": {
        "colab": {
          "base_uri": "https://localhost:8080/"
        },
        "id": "KmH1VogRKLvZ",
        "outputId": "99cb254a-2403-43f0-fb49-39c8ece94c68"
      },
      "execution_count": null,
      "outputs": [
        {
          "output_type": "stream",
          "name": "stdout",
          "text": [
            "() <class 'tuple'>\n",
            "(10, 20) <class 'tuple'>\n",
            "(10, 20, 'krishna', 'krishna@gmail.com') <class 'tuple'>\n"
          ]
        }
      ]
    },
    {
      "cell_type": "code",
      "source": [
        "# keyword variable length argument **kwargs\n",
        "def employee(**var):\n",
        "  print(var, type(var))\n",
        "employee()\n",
        "employee(id=10,salary=20)\n",
        "employee(id=10,salary=20,name=\"krishna\",email=\"krishna@gmail.com\")"
      ],
      "metadata": {
        "colab": {
          "base_uri": "https://localhost:8080/"
        },
        "id": "XsJVTG0TKoMC",
        "outputId": "43d5f910-c912-48f9-cef4-58bc1cf3b9d0"
      },
      "execution_count": null,
      "outputs": [
        {
          "output_type": "stream",
          "name": "stdout",
          "text": [
            "{} <class 'dict'>\n",
            "{'id': 10, 'salary': 20} <class 'dict'>\n",
            "{'id': 10, 'salary': 20, 'name': 'krishna', 'email': 'krishna@gmail.com'} <class 'dict'>\n"
          ]
        }
      ]
    },
    {
      "cell_type": "code",
      "source": [
        "# return keyword in function\n",
        "def birthday(amount):\n",
        "  print(\"amount is:\",amount)"
      ],
      "metadata": {
        "id": "rY3YCy0RMbK3"
      },
      "execution_count": null,
      "outputs": []
    },
    {
      "cell_type": "code",
      "source": [
        "print(birthday(100))\n",
        "# again use print statment is none"
      ],
      "metadata": {
        "colab": {
          "base_uri": "https://localhost:8080/"
        },
        "id": "CGHVdbVrNu5d",
        "outputId": "497a6d2d-cd35-41e0-b533-e7238c2ab749"
      },
      "execution_count": null,
      "outputs": [
        {
          "output_type": "stream",
          "name": "stdout",
          "text": [
            "amount is: 100\n",
            "None\n"
          ]
        }
      ]
    },
    {
      "cell_type": "code",
      "source": [
        "out=birthday(100)\n",
        "print(out)"
      ],
      "metadata": {
        "colab": {
          "base_uri": "https://localhost:8080/"
        },
        "id": "_d41gb8wNxha",
        "outputId": "5c427161-4d70-494a-9fb6-7e9c7752cce1"
      },
      "execution_count": null,
      "outputs": [
        {
          "output_type": "stream",
          "name": "stdout",
          "text": [
            "amount is: 100\n",
            "None\n"
          ]
        }
      ]
    },
    {
      "cell_type": "code",
      "source": [
        "# write return and out of function\n",
        "def investment(amount):\n",
        "  return amount*10"
      ],
      "metadata": {
        "id": "U4wkCpPeOTNx"
      },
      "execution_count": 7,
      "outputs": []
    },
    {
      "cell_type": "code",
      "source": [
        "account=investment(4)\n",
        "print(\"account:\",account)"
      ],
      "metadata": {
        "colab": {
          "base_uri": "https://localhost:8080/"
        },
        "id": "Ambqez18QH3g",
        "outputId": "8233e23f-a4ca-4299-efe6-610014ecec76"
      },
      "execution_count": null,
      "outputs": [
        {
          "output_type": "stream",
          "name": "stdout",
          "text": [
            "account: 40\n"
          ]
        }
      ]
    },
    {
      "cell_type": "code",
      "source": [
        "def investment(amount):\n",
        "  print(amount*10)\n",
        "  return 50"
      ],
      "metadata": {
        "id": "Zp2tg7FR_36a"
      },
      "execution_count": 11,
      "outputs": []
    },
    {
      "cell_type": "code",
      "source": [
        "account=investment(1000)\n",
        "print(\"account:\",account)"
      ],
      "metadata": {
        "colab": {
          "base_uri": "https://localhost:8080/"
        },
        "id": "EKlJ_9FwAI6i",
        "outputId": "b2185f9b-b8b8-412c-da2d-72915ed2a241"
      },
      "execution_count": 12,
      "outputs": [
        {
          "output_type": "stream",
          "name": "stdout",
          "text": [
            "10000\n",
            "account: 50\n"
          ]
        }
      ]
    },
    {
      "cell_type": "code",
      "source": [
        "def investment(amount):\n",
        "  print(amount*10)\n",
        "  return \"1crore\""
      ],
      "metadata": {
        "id": "yWpbKYZyAfGD"
      },
      "execution_count": 13,
      "outputs": []
    },
    {
      "cell_type": "code",
      "source": [
        "account=investment(1000)\n",
        "print(\"account:\",account)"
      ],
      "metadata": {
        "colab": {
          "base_uri": "https://localhost:8080/"
        },
        "id": "WYf4MUszAklK",
        "outputId": "cd4a6a1c-f0fe-4cf5-e66a-23065558baea"
      },
      "execution_count": 14,
      "outputs": [
        {
          "output_type": "stream",
          "name": "stdout",
          "text": [
            "10000\n",
            "account: 1crore\n"
          ]
        }
      ]
    },
    {
      "cell_type": "code",
      "source": [
        "#even True and False\n",
        "x=20\n",
        "if x%2==0:\n",
        "  print(\"True\")\n",
        "else:\n",
        "  print(\"False\")"
      ],
      "metadata": {
        "colab": {
          "base_uri": "https://localhost:8080/"
        },
        "id": "vEcAZcEEQ5vE",
        "outputId": "9561cc64-a63e-4633-c85b-e4b9ce80c523"
      },
      "execution_count": null,
      "outputs": [
        {
          "output_type": "stream",
          "name": "stdout",
          "text": [
            "True\n"
          ]
        }
      ]
    },
    {
      "cell_type": "code",
      "source": [
        "#even True and False with function\n",
        "def func(x):\n",
        "  if x%2==0:\n",
        "    print(\"True\")\n",
        "  else:\n",
        "    print(\"False\")"
      ],
      "metadata": {
        "id": "uTW8Y1cCRRVo"
      },
      "execution_count": null,
      "outputs": []
    },
    {
      "cell_type": "code",
      "source": [
        "output=func(20)\n",
        "print(\"output\",output)"
      ],
      "metadata": {
        "colab": {
          "base_uri": "https://localhost:8080/"
        },
        "id": "NLga6qo9SPHp",
        "outputId": "1d72d655-5b1b-413a-de8c-46bbbcf6dede"
      },
      "execution_count": null,
      "outputs": [
        {
          "output_type": "stream",
          "name": "stdout",
          "text": [
            "True\n",
            "output None\n"
          ]
        }
      ]
    },
    {
      "cell_type": "code",
      "source": [
        "func(20)"
      ],
      "metadata": {
        "colab": {
          "base_uri": "https://localhost:8080/"
        },
        "id": "4cp5Z-DLR5i-",
        "outputId": "5b3f083a-3c1c-40c3-cc3c-ec9b6bc3227c"
      },
      "execution_count": null,
      "outputs": [
        {
          "output_type": "stream",
          "name": "stdout",
          "text": [
            "True\n"
          ]
        }
      ]
    },
    {
      "cell_type": "code",
      "source": [
        "func(15)"
      ],
      "metadata": {
        "colab": {
          "base_uri": "https://localhost:8080/"
        },
        "id": "XH3TFf2xSDo6",
        "outputId": "33bab535-82aa-4036-c997-5b137b97f29a"
      },
      "execution_count": null,
      "outputs": [
        {
          "output_type": "stream",
          "name": "stdout",
          "text": [
            "False\n"
          ]
        }
      ]
    },
    {
      "cell_type": "code",
      "source": [
        "#even True and False with function(return)\n",
        "def func(x):\n",
        "  if x%2==0:\n",
        "    return (\"True\")\n",
        "  else:\n",
        "    return (\"False\")"
      ],
      "metadata": {
        "id": "eP3bP6vGSFpM"
      },
      "execution_count": null,
      "outputs": []
    },
    {
      "cell_type": "code",
      "source": [
        "output=func(20)\n",
        "print(\"output\",output)"
      ],
      "metadata": {
        "colab": {
          "base_uri": "https://localhost:8080/"
        },
        "id": "T7NwpjAzSfiH",
        "outputId": "6eddc44b-5ec2-444b-d8bc-2f8631274626"
      },
      "execution_count": null,
      "outputs": [
        {
          "output_type": "stream",
          "name": "stdout",
          "text": [
            "output True\n"
          ]
        }
      ]
    },
    {
      "cell_type": "code",
      "source": [
        "func(40)"
      ],
      "metadata": {
        "colab": {
          "base_uri": "https://localhost:8080/",
          "height": 36
        },
        "id": "fyuyGeybSiIQ",
        "outputId": "cae09b77-5891-4343-e013-aa2047959425"
      },
      "execution_count": null,
      "outputs": [
        {
          "output_type": "execute_result",
          "data": {
            "text/plain": [
              "'True'"
            ],
            "application/vnd.google.colaboratory.intrinsic+json": {
              "type": "string"
            }
          },
          "metadata": {},
          "execution_count": 43
        }
      ]
    },
    {
      "cell_type": "code",
      "source": [
        "# make function average marks in 5 subject(parametar) and marks average check print a average value.\n",
        "def average_marks(a,b,c,d,e):\n",
        "   return(a+b+c+d+e/5)"
      ],
      "metadata": {
        "id": "DbbZj4kESmi2"
      },
      "execution_count": null,
      "outputs": []
    },
    {
      "cell_type": "code",
      "source": [
        "out=average_marks(20,30,40,50,60)\n",
        "print(\"output\",out)\n",
        "\n",
        "if(out>=90):\n",
        "  print(\"he is a topper with\",out)\n",
        "else:\n",
        "  print(\"he is a passed candiate with avg\",out)"
      ],
      "metadata": {
        "colab": {
          "base_uri": "https://localhost:8080/"
        },
        "id": "x8_fPyP5Tooz",
        "outputId": "3b51a51a-208b-460d-a119-9a2e1ee7a592"
      },
      "execution_count": null,
      "outputs": [
        {
          "output_type": "stream",
          "name": "stdout",
          "text": [
            "output 152.0\n",
            "he is a topper with 152.0\n"
          ]
        }
      ]
    },
    {
      "cell_type": "code",
      "source": [
        "# palindrom number\n",
        "num =243\n",
        "temp = num\n",
        "reverse = 0\n",
        "while (temp > 0):\n",
        "    digit = temp % 10\n",
        "    reverse = (reverse * 10) + digit\n",
        "    temp //= 10\n",
        "if (num == reverse):\n",
        "    print(num, \"is a Palindrome\")\n",
        "else:\n",
        "    print(num, \"is not a Palindrome\")"
      ],
      "metadata": {
        "colab": {
          "base_uri": "https://localhost:8080/"
        },
        "id": "LK9HsY_IUnko",
        "outputId": "1ca949ee-b952-4f44-d4f0-6d145fa6f016"
      },
      "execution_count": null,
      "outputs": [
        {
          "output_type": "stream",
          "name": "stdout",
          "text": [
            "243 is not a Palindrome\n"
          ]
        }
      ]
    },
    {
      "cell_type": "code",
      "source": [
        "# palindrom number with function\n",
        "def palindrome(num):\n",
        "  temp = num\n",
        "  reverse = 0\n",
        "  while (temp > 0):\n",
        "    digit = temp % 10\n",
        "    reverse = (reverse * 10) + digit\n",
        "    temp //= 10\n",
        "  if (num == reverse):\n",
        "    print(num, \"is a Palindrome\")\n",
        "  else:\n",
        "    print(num, \"is not a Palindrome\")"
      ],
      "metadata": {
        "id": "C2JRF4TFVnB4"
      },
      "execution_count": 16,
      "outputs": []
    },
    {
      "cell_type": "code",
      "source": [
        "palindrome(234)"
      ],
      "metadata": {
        "colab": {
          "base_uri": "https://localhost:8080/"
        },
        "id": "mBOL7nQFV4pm",
        "outputId": "06146d3e-4609-4286-d5c8-a834958c1bce"
      },
      "execution_count": null,
      "outputs": [
        {
          "output_type": "stream",
          "name": "stdout",
          "text": [
            "234 is not a Palindrome\n"
          ]
        }
      ]
    },
    {
      "cell_type": "code",
      "source": [
        "palindrome(101)"
      ],
      "metadata": {
        "colab": {
          "base_uri": "https://localhost:8080/"
        },
        "id": "GB5V4EmIBxK6",
        "outputId": "d0059d89-85ae-4d82-e09a-33948fbb2a29"
      },
      "execution_count": 17,
      "outputs": [
        {
          "output_type": "stream",
          "name": "stdout",
          "text": [
            "101 is a Palindrome\n"
          ]
        }
      ]
    },
    {
      "cell_type": "code",
      "source": [
        "def palindrome(num):\n",
        "  temp = num\n",
        "  reverse = 0\n",
        "  while (temp > 0):\n",
        "    digit = temp % 10\n",
        "    reverse = (reverse * 10) + digit\n",
        "    temp //= 10\n",
        "  if (num == reverse):\n",
        "      return (f\"{num} is a Palindrome\")\n",
        "  else:\n",
        "      return (f\"{num} is not a Palindrome\")"
      ],
      "metadata": {
        "id": "NAPMtslLV8jM"
      },
      "execution_count": 18,
      "outputs": []
    },
    {
      "cell_type": "code",
      "source": [
        "palindrome(243)"
      ],
      "metadata": {
        "colab": {
          "base_uri": "https://localhost:8080/",
          "height": 36
        },
        "id": "6WTKD_HFXGvT",
        "outputId": "05039518-f44d-432f-b1d5-d6c64dedb10c"
      },
      "execution_count": 19,
      "outputs": [
        {
          "output_type": "execute_result",
          "data": {
            "text/plain": [
              "'243 is not a Palindrome'"
            ],
            "application/vnd.google.colaboratory.intrinsic+json": {
              "type": "string"
            }
          },
          "metadata": {},
          "execution_count": 19
        }
      ]
    },
    {
      "cell_type": "code",
      "source": [
        "num=4\n",
        "for i in range(1,num+1):\n",
        "  for j in range(1,i+1):\n",
        "    print(\"*\",end=\" \")\n",
        "  print(\" \")\n",
        "for i in range(1,num):\n",
        "  for j in range(i,num):\n",
        "    print(\"*\",end=\" \")\n",
        "  print(\" \")"
      ],
      "metadata": {
        "colab": {
          "base_uri": "https://localhost:8080/"
        },
        "id": "tp_n_ofNXuSZ",
        "outputId": "9227ee45-8700-451c-d57c-4b6b2f0336bd"
      },
      "execution_count": 36,
      "outputs": [
        {
          "output_type": "stream",
          "name": "stdout",
          "text": [
            "*  \n",
            "* *  \n",
            "* * *  \n",
            "* * * *  \n",
            "* * *  \n",
            "* *  \n",
            "*  \n"
          ]
        }
      ]
    },
    {
      "cell_type": "code",
      "source": [
        "def star(num):\n",
        "  for i in range(1,num+1):\n",
        "    for j in range(1,i+1):\n",
        "      print(\"*\",end=\" \")\n",
        "    print(\" \")\n",
        "  for i in range(1,num):\n",
        "    for j in range(i,num):\n",
        "      print(\"*\",end=\" \")\n",
        "    print(\" \")\n",
        "\n",
        "star(7)"
      ],
      "metadata": {
        "id": "VxdE6LUpX-ui",
        "colab": {
          "base_uri": "https://localhost:8080/"
        },
        "outputId": "28243214-8d7f-4561-dd03-d0a9db976a0a"
      },
      "execution_count": 38,
      "outputs": [
        {
          "output_type": "stream",
          "name": "stdout",
          "text": [
            "*  \n",
            "* *  \n",
            "* * *  \n",
            "* * * *  \n",
            "* * * * *  \n",
            "* * * * * *  \n",
            "* * * * * * *  \n",
            "* * * * * *  \n",
            "* * * * *  \n",
            "* * * *  \n",
            "* * *  \n",
            "* *  \n",
            "*  \n"
          ]
        }
      ]
    },
    {
      "cell_type": "code",
      "source": [
        "# First class functions\n",
        "def func():\n",
        "  print(\"hey\")\n",
        "\n",
        "print(func)\n",
        "x=func\n",
        "print(\"x:\",x)\n",
        "x()\n",
        "func()"
      ],
      "metadata": {
        "colab": {
          "base_uri": "https://localhost:8080/"
        },
        "id": "Bt3DH0VZanlR",
        "outputId": "72dfd59c-b165-4f2e-f7fe-25ab7a30c8d8"
      },
      "execution_count": null,
      "outputs": [
        {
          "output_type": "stream",
          "name": "stdout",
          "text": [
            "<function func at 0x7e873ee991c0>\n",
            "x: <function func at 0x7e873ee991c0>\n",
            "hey\n",
            "hey\n"
          ]
        }
      ]
    },
    {
      "cell_type": "code",
      "source": [],
      "metadata": {
        "id": "ZYlOGnpWbCBZ"
      },
      "execution_count": null,
      "outputs": []
    }
  ]
}